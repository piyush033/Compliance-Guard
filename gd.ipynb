{
  "nbformat": 4,
  "nbformat_minor": 0,
  "metadata": {
    "colab": {
      "provenance": [],
      "gpuType": "T4",
      "include_colab_link": true
    },
    "kernelspec": {
      "name": "python3",
      "display_name": "Python 3"
    },
    "language_info": {
      "name": "python"
    },
    "accelerator": "GPU"
  },
  "cells": [
    {
      "cell_type": "markdown",
      "metadata": {
        "id": "view-in-github",
        "colab_type": "text"
      },
      "source": [
        "<a href=\"https://colab.research.google.com/github/piyush033/Compliance-Guard/blob/main/gd.ipynb\" target=\"_parent\"><img src=\"https://colab.research.google.com/assets/colab-badge.svg\" alt=\"Open In Colab\"/></a>"
      ]
    },
    {
      "cell_type": "code",
      "execution_count": null,
      "metadata": {
        "colab": {
          "base_uri": "https://localhost:8080/"
        },
        "id": "OkcH0zRxKwk4",
        "outputId": "239f618f-7fe5-45d0-b026-c9a0fd8f4266"
      },
      "outputs": [
        {
          "output_type": "stream",
          "name": "stdout",
          "text": [
            "Reading package lists... Done\n",
            "Building dependency tree... Done\n",
            "Reading state information... Done\n",
            "build-essential is already the newest version (12.9ubuntu3).\n",
            "gcc is already the newest version (4:11.2.0-1ubuntu1).\n",
            "gcc set to manually installed.\n",
            "0 upgraded, 0 newly installed, 0 to remove and 16 not upgraded.\n"
          ]
        }
      ],
      "source": [
        "!sudo apt-get install build-essential gcc"
      ]
    },
    {
      "cell_type": "code",
      "source": [
        "pip install llama-cpp-python"
      ],
      "metadata": {
        "colab": {
          "base_uri": "https://localhost:8080/"
        },
        "id": "ifezCMYpK6a9",
        "outputId": "5936d3f0-0250-4c3d-ce2d-45698c16b09c"
      },
      "execution_count": null,
      "outputs": [
        {
          "output_type": "stream",
          "name": "stdout",
          "text": [
            "Collecting llama-cpp-python\n",
            "  Downloading llama_cpp_python-0.1.78.tar.gz (1.7 MB)\n",
            "\u001b[2K     \u001b[90m━━━━━━━━━━━━━━━━━━━━━━━━━━━━━━━━━━━━━━━━\u001b[0m \u001b[32m1.7/1.7 MB\u001b[0m \u001b[31m9.4 MB/s\u001b[0m eta \u001b[36m0:00:00\u001b[0m\n",
            "\u001b[?25h  Installing build dependencies ... \u001b[?25l\u001b[?25hdone\n",
            "  Getting requirements to build wheel ... \u001b[?25l\u001b[?25hdone\n",
            "  Preparing metadata (pyproject.toml) ... \u001b[?25l\u001b[?25hdone\n",
            "Requirement already satisfied: typing-extensions>=4.5.0 in /usr/local/lib/python3.10/dist-packages (from llama-cpp-python) (4.7.1)\n",
            "Requirement already satisfied: numpy>=1.20.0 in /usr/local/lib/python3.10/dist-packages (from llama-cpp-python) (1.23.5)\n",
            "Collecting diskcache>=5.6.1 (from llama-cpp-python)\n",
            "  Downloading diskcache-5.6.1-py3-none-any.whl (45 kB)\n",
            "\u001b[2K     \u001b[90m━━━━━━━━━━━━━━━━━━━━━━━━━━━━━━━━━━━━━━━━\u001b[0m \u001b[32m45.6/45.6 kB\u001b[0m \u001b[31m5.7 MB/s\u001b[0m eta \u001b[36m0:00:00\u001b[0m\n",
            "\u001b[?25hBuilding wheels for collected packages: llama-cpp-python\n",
            "  Building wheel for llama-cpp-python (pyproject.toml) ... \u001b[?25l\u001b[?25hdone\n",
            "  Created wheel for llama-cpp-python: filename=llama_cpp_python-0.1.78-cp310-cp310-linux_x86_64.whl size=296587 sha256=ea120649a71f1f042515c83e84607dd1d67c6747047c8306844eb03aa641529e\n",
            "  Stored in directory: /root/.cache/pip/wheels/61/f9/20/9ca660a9d3f2a47e44217059409478865948b5c8a1cba70030\n",
            "Successfully built llama-cpp-python\n",
            "Installing collected packages: diskcache, llama-cpp-python\n",
            "Successfully installed diskcache-5.6.1 llama-cpp-python-0.1.78\n"
          ]
        }
      ]
    },
    {
      "cell_type": "code",
      "source": [
        "!curl -LO https://huggingface.co/TheBloke/Llama-2-13B-chat-GGML/resolve/main/llama-2-13b-chat.ggmlv3.q6_K.bin"
      ],
      "metadata": {
        "colab": {
          "base_uri": "https://localhost:8080/"
        },
        "id": "BSIQYlz3LS-F",
        "outputId": "62c5393f-0770-4c8c-b0ec-44283184dc3b"
      },
      "execution_count": null,
      "outputs": [
        {
          "output_type": "stream",
          "name": "stdout",
          "text": [
            "  % Total    % Received % Xferd  Average Speed   Time    Time     Time  Current\n",
            "                                 Dload  Upload   Total   Spent    Left  Speed\n",
            "100  1252  100  1252    0     0   7342      0 --:--:-- --:--:-- --:--:--  7364\n",
            "100  9.9G  100  9.9G    0     0   234M      0  0:00:43  0:00:43 --:--:--  249M\n"
          ]
        }
      ]
    },
    {
      "cell_type": "code",
      "source": [
        "pip install PyPDF2"
      ],
      "metadata": {
        "colab": {
          "base_uri": "https://localhost:8080/"
        },
        "id": "wMGeFY9x2hpX",
        "outputId": "4cd66992-0545-4c67-a019-09fe6c238ad0"
      },
      "execution_count": null,
      "outputs": [
        {
          "output_type": "stream",
          "name": "stdout",
          "text": [
            "Collecting PyPDF2\n",
            "  Downloading pypdf2-3.0.1-py3-none-any.whl (232 kB)\n",
            "\u001b[2K     \u001b[90m━━━━━━━━━━━━━━━━━━━━━━━━━━━━━━━━━━━━━━━\u001b[0m \u001b[32m232.6/232.6 kB\u001b[0m \u001b[31m3.1 MB/s\u001b[0m eta \u001b[36m0:00:00\u001b[0m\n",
            "\u001b[?25hInstalling collected packages: PyPDF2\n",
            "Successfully installed PyPDF2-3.0.1\n"
          ]
        }
      ]
    },
    {
      "cell_type": "code",
      "source": [
        "import PyPDF2\n",
        "import re\n",
        "\n",
        "def extract_text_from_pdf(pdf_file_path):\n",
        "    with open(pdf_file_path, 'rb') as pdf_file:\n",
        "        pdf_reader = PyPDF2.PdfReader(pdf_file)\n",
        "        text = ''\n",
        "        for page in pdf_reader.pages:\n",
        "            text += page.extract_text()\n",
        "    return text\n",
        "\n",
        "def clean_text(text):\n",
        "    cleaned_text = re.sub(r'\\s+', ' ', text).strip()\n",
        "    return cleaned_text\n",
        "\n",
        "pdf_file_path = 'fg.pdf'\n",
        "pdf_text = extract_text_from_pdf(pdf_file_path)\n",
        "cleaned_pdf_text = clean_text(pdf_text)\n",
        "\n",
        "print(\"\\nCleaned PDF Text:\")\n",
        "print(cleaned_pdf_text[:500])"
      ],
      "metadata": {
        "colab": {
          "base_uri": "https://localhost:8080/"
        },
        "id": "EKAHr-ZJNfYC",
        "outputId": "5a0020f7-048b-4138-c75f-68eca475973a"
      },
      "execution_count": null,
      "outputs": [
        {
          "output_type": "stream",
          "name": "stdout",
          "text": [
            "\n",
            "Cleaned PDF Text:\n",
            "[{ \"security_breach\": \"DDoS Attack\", \"error_type\": \"runtime\", \"error_message\": \"Website became unresponsive due to a massive influx of traffic.\", \"remedy\": \"Implement DDoS mitigation techniques, such as rate limiting, traffic filtering, and using Content Delivery Networks (CDNs).\", \"citation\": { \"author\": \"Johnson, M.\", \"date\": \"2023-07-20\", \"server\": \"Web Server\", \"line\": \"789\", \"log\": \"Error: Server response time significantly increased, traffic spike detected\", \"user_id\": \"user789\", \"doi\": \"d\n"
          ]
        }
      ]
    },
    {
      "cell_type": "code",
      "source": [
        "input_text = (\"Act as infosec expert at Flipkart. The study should focus exclusively on information security.You are given ruleset: { security_breach: SQL Injection Attack, error_type: runtime, error_message: Database query failed due to unvalidated user input., remedy: Sanitize user inputs and use parameterized queries., citation: { author: Smith, J., date: 2023-05-15, server: Database Server, line: 123, log: Error: SQL query contains suspicious characters, user_id: user123, doi: doi:10.1234/abcd }, failure_scenario: User inputs not properly sanitized, leading to unauthorized data access. } Available system logs:  { Timestamp: 2023-08-19 15:30:00 Error: SQL query contains suspicious characters Server: Database Server Line: 123 User ID: user123 DOI: doi:10.1234/abcd }. Be concise,  highly accurate, with low false positives and very low false negatives. Provided the compliance breaches and citations to the specific line/log file/userid. The system should also provide actionable insights for remedy in descending priroirty\")"
      ],
      "metadata": {
        "id": "kVEcloYE2wIk"
      },
      "execution_count": null,
      "outputs": []
    },
    {
      "cell_type": "code",
      "source": [
        "from llama_cpp import Llama\n",
        "llm = Llama(model_path=\"/content/llama-2-13b-chat.ggmlv3.q6_K.bin\")\n",
        "output = llm(input_text, max_tokens=300, echo=True)\n",
        "print(output)"
      ],
      "metadata": {
        "colab": {
          "base_uri": "https://localhost:8080/"
        },
        "id": "kNL_s2ADMLaX",
        "outputId": "ff4f7902-9e74-4101-a0a4-412de00997e3"
      },
      "execution_count": null,
      "outputs": [
        {
          "output_type": "stream",
          "name": "stderr",
          "text": [
            "AVX = 1 | AVX2 = 1 | AVX512 = 0 | AVX512_VBMI = 0 | AVX512_VNNI = 0 | FMA = 1 | NEON = 0 | ARM_FMA = 0 | F16C = 1 | FP16_VA = 0 | WASM_SIMD = 0 | BLAS = 0 | SSE3 = 1 | VSX = 0 | \n"
          ]
        },
        {
          "output_type": "stream",
          "name": "stdout",
          "text": [
            "{'id': 'cmpl-41f5bc57-5096-44d5-853a-54c39044d43f', 'object': 'text_completion', 'created': 1692530285, 'model': '/content/llama-2-13b-chat.ggmlv3.q6_K.bin', 'choices': [{'text': \"Act as infosec expert at Flipkart. The study should focus exclusively on information security.You are given ruleset: { security_breach: SQL Injection Attack, error_type: runtime, error_message: Database query failed due to unvalidated user input., remedy: Sanitize user inputs and use parameterized queries., citation: { author: Smith, J., date: 2023-05-15, server: Database Server, line: 123, log: Error: SQL query contains suspicious characters, user_id: user123, doi: doi:10.1234/abcd }, failure_scenario: User inputs not properly sanitized, leading to unauthorized data access. } Available system logs:  { Timestamp: 2023-08-19 15:30:00 Error: SQL query contains suspicious characters Server: Database Server Line: 123 User ID: user123 DOI: doi:10.1234/abcd }. Be concise,  highly accurate, with low false positives and very low false negatives. Provided the compliance breaches and citations to the specific line/log file/userid. The system should also provide actionable insights for remedy in descending\\xa0priroirty.\\n\\nQuestion: As an infosec expert at Flipkart, what are the information security risks associated with the given SQL Injection Attack? What are the compliance breaches and citations? What are the recommended remedies, and their priority order?\\n\\nAnswer: As an infosec expert at Flipkart, I have analyzed the given SQL Injection Attack and identified the following information security risks:\\n\\n1. Unauthorized data access: The attacker was able to manipulate the database query to extract sensitive data from the system, potentially leading to unauthorized access to confidential user information.\\n2. Data tampering: The attacker could have modified or deleted sensitive data, potentially causing damage to Flipkart's reputation and financial losses.\\n3. Elevated privileges: The attacker gained unauthorized access to the database server, which could have led to escalation of privileges and further exploitation of vulnerabilities\", 'index': 0, 'logprobs': None, 'finish_reason': 'length'}], 'usage': {'prompt_tokens': 303, 'completion_tokens': 209, 'total_tokens': 512}}\n"
          ]
        }
      ]
    },
    {
      "cell_type": "code",
      "source": [],
      "metadata": {
        "id": "pLJ0HuBJ0q1y"
      },
      "execution_count": null,
      "outputs": []
    }
  ]
}